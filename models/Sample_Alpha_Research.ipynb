{
 "cells": [
  {
   "cell_type": "code",
   "execution_count": 1,
   "metadata": {},
   "outputs": [
    {
     "name": "stdout",
     "output_type": "stream",
     "text": [
      "/Users/fangxia/Library/Mobile Documents/com~apple~CloudDocs/code/hans_radish\n"
     ]
    }
   ],
   "source": [
    "cd /Users/fangxia/Library/Mobile Documents/com~apple~CloudDocs/code/hans_radish"
   ]
  },
  {
   "cell_type": "code",
   "execution_count": 2,
   "metadata": {},
   "outputs": [
    {
     "name": "stderr",
     "output_type": "stream",
     "text": [
      "/Library/Frameworks/Python.framework/Versions/3.7/lib/python3.7/site-packages/arctic/store/_pandas_ndarray_store.py:6: FutureWarning: The Panel class is removed from pandas. Accessing it from the top-level namespace will also be removed in the next version\n",
      "  from pandas import DataFrame, Series, Panel\n"
     ]
    }
   ],
   "source": [
    "from paprika.alpha.base import *\n",
    "from paprika.data.data_processor import DataProcessor\n",
    "from paprika.data.feed_filter import TimeFreqFilter, TimePeriod\n",
    "from paprika.data.data_channel import DataChannel"
   ]
  },
  {
   "cell_type": "markdown",
   "metadata": {},
   "source": [
    "# load EOD data and Process it to Weekly"
   ]
  },
  {
   "cell_type": "code",
   "execution_count": 3,
   "metadata": {},
   "outputs": [],
   "source": [
    "symbols = DataChannel.check_register(['\\w*.\\w*.EOD'], False)"
   ]
  },
  {
   "cell_type": "code",
   "execution_count": 4,
   "metadata": {},
   "outputs": [],
   "source": [
    "time_filter = TimeFreqFilter(TimePeriod.WEEK, 1)"
   ]
  },
  {
   "cell_type": "code",
   "execution_count": 5,
   "metadata": {},
   "outputs": [
    {
     "data": {
      "text/plain": [
       "['SP500.A.EOD', 'SP500.AAP.EOD']"
      ]
     },
     "execution_count": 5,
     "metadata": {},
     "output_type": "execute_result"
    }
   ],
   "source": [
    "symbols[0:2]"
   ]
  },
  {
   "cell_type": "code",
   "execution_count": 6,
   "metadata": {},
   "outputs": [
    {
     "name": "stderr",
     "output_type": "stream",
     "text": [
      "/Users/fangxia/Library/Mobile Documents/com~apple~CloudDocs/code/hans_radish/paprika/data/data_processor.py:42: FutureWarning: The read_msgpack is deprecated and will be removed in a future version.\n",
      "It is recommended to use pyarrow for on-the-wire transmission of pandas objects.\n",
      "  self._data = DataChannel.download(args[0], *args[1:], **kwargs)\n"
     ]
    }
   ],
   "source": [
    "dp = DataProcessor(symbols[0:10])"
   ]
  },
  {
   "cell_type": "code",
   "execution_count": 7,
   "metadata": {},
   "outputs": [],
   "source": [
    "dp.ohlcv(time_filter, inplace=True)"
   ]
  },
  {
   "cell_type": "markdown",
   "metadata": {},
   "source": [
    "# load Alpha Lib"
   ]
  },
  {
   "cell_type": "code",
   "execution_count": 8,
   "metadata": {},
   "outputs": [],
   "source": [
    "alpha = Alpha(dp)"
   ]
  },
  {
   "cell_type": "code",
   "execution_count": 9,
   "metadata": {},
   "outputs": [
    {
     "data": {
      "text/plain": [
       "['alpha_3', 'alpha_4']"
      ]
     },
     "execution_count": 9,
     "metadata": {},
     "output_type": "execute_result"
    }
   ],
   "source": [
    "alpha.list_alpha_universe()"
   ]
  },
  {
   "cell_type": "code",
   "execution_count": 10,
   "metadata": {},
   "outputs": [],
   "source": [
    "alpha.calc_alpha(['alpha_3'])"
   ]
  },
  {
   "cell_type": "code",
   "execution_count": 11,
   "metadata": {},
   "outputs": [
    {
     "data": {
      "text/plain": [
       "['alpha_3']"
      ]
     },
     "execution_count": 11,
     "metadata": {},
     "output_type": "execute_result"
    }
   ],
   "source": [
    "alpha.list_alpha()"
   ]
  },
  {
   "cell_type": "code",
   "execution_count": 12,
   "metadata": {},
   "outputs": [
    {
     "data": {
      "text/html": [
       "<div>\n",
       "<style scoped>\n",
       "    .dataframe tbody tr th:only-of-type {\n",
       "        vertical-align: middle;\n",
       "    }\n",
       "\n",
       "    .dataframe tbody tr th {\n",
       "        vertical-align: top;\n",
       "    }\n",
       "\n",
       "    .dataframe thead th {\n",
       "        text-align: right;\n",
       "    }\n",
       "</style>\n",
       "<table border=\"1\" class=\"dataframe\">\n",
       "  <thead>\n",
       "    <tr style=\"text-align: right;\">\n",
       "      <th>Symbol</th>\n",
       "      <th>SP500.A.EOD</th>\n",
       "      <th>SP500.AAP.EOD</th>\n",
       "      <th>SP500.AAPL.EOD</th>\n",
       "      <th>SP500.ABBV.EOD</th>\n",
       "      <th>SP500.ACN.EOD</th>\n",
       "      <th>SP500.ADI.EOD</th>\n",
       "      <th>SP500.ADM.EOD</th>\n",
       "      <th>SP500.ADP.EOD</th>\n",
       "      <th>SP500.ADS.EOD</th>\n",
       "      <th>SP500.ADSK.EOD</th>\n",
       "    </tr>\n",
       "    <tr>\n",
       "      <th>Start_Period</th>\n",
       "      <th></th>\n",
       "      <th></th>\n",
       "      <th></th>\n",
       "      <th></th>\n",
       "      <th></th>\n",
       "      <th></th>\n",
       "      <th></th>\n",
       "      <th></th>\n",
       "      <th></th>\n",
       "      <th></th>\n",
       "    </tr>\n",
       "  </thead>\n",
       "  <tbody>\n",
       "    <tr>\n",
       "      <th>2007-01-07</th>\n",
       "      <td>NaN</td>\n",
       "      <td>NaN</td>\n",
       "      <td>NaN</td>\n",
       "      <td>NaN</td>\n",
       "      <td>NaN</td>\n",
       "      <td>NaN</td>\n",
       "      <td>NaN</td>\n",
       "      <td>NaN</td>\n",
       "      <td>NaN</td>\n",
       "      <td>NaN</td>\n",
       "    </tr>\n",
       "    <tr>\n",
       "      <th>2007-01-14</th>\n",
       "      <td>NaN</td>\n",
       "      <td>NaN</td>\n",
       "      <td>NaN</td>\n",
       "      <td>NaN</td>\n",
       "      <td>NaN</td>\n",
       "      <td>NaN</td>\n",
       "      <td>NaN</td>\n",
       "      <td>NaN</td>\n",
       "      <td>NaN</td>\n",
       "      <td>NaN</td>\n",
       "    </tr>\n",
       "    <tr>\n",
       "      <th>2007-01-21</th>\n",
       "      <td>NaN</td>\n",
       "      <td>NaN</td>\n",
       "      <td>NaN</td>\n",
       "      <td>NaN</td>\n",
       "      <td>NaN</td>\n",
       "      <td>NaN</td>\n",
       "      <td>NaN</td>\n",
       "      <td>NaN</td>\n",
       "      <td>NaN</td>\n",
       "      <td>NaN</td>\n",
       "    </tr>\n",
       "    <tr>\n",
       "      <th>2007-01-28</th>\n",
       "      <td>NaN</td>\n",
       "      <td>NaN</td>\n",
       "      <td>NaN</td>\n",
       "      <td>NaN</td>\n",
       "      <td>NaN</td>\n",
       "      <td>NaN</td>\n",
       "      <td>NaN</td>\n",
       "      <td>NaN</td>\n",
       "      <td>NaN</td>\n",
       "      <td>NaN</td>\n",
       "    </tr>\n",
       "    <tr>\n",
       "      <th>2007-02-04</th>\n",
       "      <td>NaN</td>\n",
       "      <td>NaN</td>\n",
       "      <td>NaN</td>\n",
       "      <td>NaN</td>\n",
       "      <td>NaN</td>\n",
       "      <td>NaN</td>\n",
       "      <td>NaN</td>\n",
       "      <td>NaN</td>\n",
       "      <td>NaN</td>\n",
       "      <td>NaN</td>\n",
       "    </tr>\n",
       "    <tr>\n",
       "      <th>...</th>\n",
       "      <td>...</td>\n",
       "      <td>...</td>\n",
       "      <td>...</td>\n",
       "      <td>...</td>\n",
       "      <td>...</td>\n",
       "      <td>...</td>\n",
       "      <td>...</td>\n",
       "      <td>...</td>\n",
       "      <td>...</td>\n",
       "      <td>...</td>\n",
       "    </tr>\n",
       "    <tr>\n",
       "      <th>2019-01-20</th>\n",
       "      <td>inf</td>\n",
       "      <td>0.156174</td>\n",
       "      <td>NaN</td>\n",
       "      <td>-0.0</td>\n",
       "      <td>-0.0</td>\n",
       "      <td>0.121566</td>\n",
       "      <td>-0.0</td>\n",
       "      <td>0.300385</td>\n",
       "      <td>NaN</td>\n",
       "      <td>-0.085358</td>\n",
       "    </tr>\n",
       "    <tr>\n",
       "      <th>2019-01-27</th>\n",
       "      <td>NaN</td>\n",
       "      <td>-0.111111</td>\n",
       "      <td>NaN</td>\n",
       "      <td>-0.0</td>\n",
       "      <td>-0.0</td>\n",
       "      <td>-0.068041</td>\n",
       "      <td>-0.0</td>\n",
       "      <td>0.395285</td>\n",
       "      <td>NaN</td>\n",
       "      <td>-0.068041</td>\n",
       "    </tr>\n",
       "    <tr>\n",
       "      <th>2019-02-03</th>\n",
       "      <td>inf</td>\n",
       "      <td>-0.111111</td>\n",
       "      <td>NaN</td>\n",
       "      <td>-0.0</td>\n",
       "      <td>-0.0</td>\n",
       "      <td>-0.185695</td>\n",
       "      <td>-0.0</td>\n",
       "      <td>0.561529</td>\n",
       "      <td>NaN</td>\n",
       "      <td>-0.084941</td>\n",
       "    </tr>\n",
       "    <tr>\n",
       "      <th>2019-02-10</th>\n",
       "      <td>inf</td>\n",
       "      <td>-0.349215</td>\n",
       "      <td>NaN</td>\n",
       "      <td>-0.0</td>\n",
       "      <td>-0.0</td>\n",
       "      <td>-0.272727</td>\n",
       "      <td>-0.0</td>\n",
       "      <td>0.530669</td>\n",
       "      <td>-1.666667e-01</td>\n",
       "      <td>-0.606478</td>\n",
       "    </tr>\n",
       "    <tr>\n",
       "      <th>2019-02-17</th>\n",
       "      <td>NaN</td>\n",
       "      <td>-0.493013</td>\n",
       "      <td>NaN</td>\n",
       "      <td>-0.0</td>\n",
       "      <td>-0.0</td>\n",
       "      <td>-0.102062</td>\n",
       "      <td>-0.0</td>\n",
       "      <td>0.557086</td>\n",
       "      <td>5.508249e-15</td>\n",
       "      <td>-0.666667</td>\n",
       "    </tr>\n",
       "  </tbody>\n",
       "</table>\n",
       "<p>633 rows × 10 columns</p>\n",
       "</div>"
      ],
      "text/plain": [
       "Symbol        SP500.A.EOD  SP500.AAP.EOD  SP500.AAPL.EOD  SP500.ABBV.EOD  \\\n",
       "Start_Period                                                               \n",
       "2007-01-07            NaN            NaN             NaN             NaN   \n",
       "2007-01-14            NaN            NaN             NaN             NaN   \n",
       "2007-01-21            NaN            NaN             NaN             NaN   \n",
       "2007-01-28            NaN            NaN             NaN             NaN   \n",
       "2007-02-04            NaN            NaN             NaN             NaN   \n",
       "...                   ...            ...             ...             ...   \n",
       "2019-01-20            inf       0.156174             NaN            -0.0   \n",
       "2019-01-27            NaN      -0.111111             NaN            -0.0   \n",
       "2019-02-03            inf      -0.111111             NaN            -0.0   \n",
       "2019-02-10            inf      -0.349215             NaN            -0.0   \n",
       "2019-02-17            NaN      -0.493013             NaN            -0.0   \n",
       "\n",
       "Symbol        SP500.ACN.EOD  SP500.ADI.EOD  SP500.ADM.EOD  SP500.ADP.EOD  \\\n",
       "Start_Period                                                               \n",
       "2007-01-07              NaN            NaN            NaN            NaN   \n",
       "2007-01-14              NaN            NaN            NaN            NaN   \n",
       "2007-01-21              NaN            NaN            NaN            NaN   \n",
       "2007-01-28              NaN            NaN            NaN            NaN   \n",
       "2007-02-04              NaN            NaN            NaN            NaN   \n",
       "...                     ...            ...            ...            ...   \n",
       "2019-01-20             -0.0       0.121566           -0.0       0.300385   \n",
       "2019-01-27             -0.0      -0.068041           -0.0       0.395285   \n",
       "2019-02-03             -0.0      -0.185695           -0.0       0.561529   \n",
       "2019-02-10             -0.0      -0.272727           -0.0       0.530669   \n",
       "2019-02-17             -0.0      -0.102062           -0.0       0.557086   \n",
       "\n",
       "Symbol        SP500.ADS.EOD  SP500.ADSK.EOD  \n",
       "Start_Period                                 \n",
       "2007-01-07              NaN             NaN  \n",
       "2007-01-14              NaN             NaN  \n",
       "2007-01-21              NaN             NaN  \n",
       "2007-01-28              NaN             NaN  \n",
       "2007-02-04              NaN             NaN  \n",
       "...                     ...             ...  \n",
       "2019-01-20              NaN       -0.085358  \n",
       "2019-01-27              NaN       -0.068041  \n",
       "2019-02-03              NaN       -0.084941  \n",
       "2019-02-10    -1.666667e-01       -0.606478  \n",
       "2019-02-17     5.508249e-15       -0.666667  \n",
       "\n",
       "[633 rows x 10 columns]"
      ]
     },
     "execution_count": 12,
     "metadata": {},
     "output_type": "execute_result"
    }
   ],
   "source": [
    "alpha['alpha_3']"
   ]
  },
  {
   "cell_type": "code",
   "execution_count": 55,
   "metadata": {},
   "outputs": [],
   "source": [
    "def alpha_5(dp, g):\n",
    "    return dp.close * g\n",
    "\n",
    "alpha_5.info = 'dp.close * g'"
   ]
  },
  {
   "cell_type": "code",
   "execution_count": 56,
   "metadata": {},
   "outputs": [
    {
     "name": "stdout",
     "output_type": "stream",
     "text": [
      "['alpha_3', 'alpha_5']\n"
     ]
    }
   ],
   "source": [
    "alpha.add_alpha(alpha_5, 3)\n",
    "print(alpha.list_alpha())"
   ]
  },
  {
   "cell_type": "code",
   "execution_count": 57,
   "metadata": {},
   "outputs": [],
   "source": [
    "alpha.load_alpha_universe()"
   ]
  },
  {
   "cell_type": "code",
   "execution_count": 58,
   "metadata": {},
   "outputs": [
    {
     "data": {
      "text/plain": [
       "['alpha_3', 'alpha_4']"
      ]
     },
     "execution_count": 58,
     "metadata": {},
     "output_type": "execute_result"
    }
   ],
   "source": [
    "alpha.list_alpha_universe()"
   ]
  }
 ],
 "metadata": {
  "kernelspec": {
   "display_name": "Python 3",
   "language": "python",
   "name": "python3"
  },
  "language_info": {
   "codemirror_mode": {
    "name": "ipython",
    "version": 3
   },
   "file_extension": ".py",
   "mimetype": "text/x-python",
   "name": "python",
   "nbconvert_exporter": "python",
   "pygments_lexer": "ipython3",
   "version": "3.7.4"
  }
 },
 "nbformat": 4,
 "nbformat_minor": 2
}
